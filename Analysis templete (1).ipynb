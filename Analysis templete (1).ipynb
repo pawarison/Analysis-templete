{
  "cells":[
    {
      "cell_type":"markdown",
      "source":[
        "# [Title] Analysis\n",
        "### by Pawarison\n",
        "### Dataset Overview\n",
        "ex. This dataset is from h1bdata.info, where has the h1b disclosure data from the United States Department of Labor (DOL).\n",
        "### Research Question\/direction:\n",
        "- ex. What are the Proportion by Differrent Product Job?\n",
        "- ex. Which marketing job gets paid the highest salary?\n",
        "- ex.Predicting the number of shares of Mashable Articles.\n",
        "# Data Wrangling\n",
        "## Gather"
      ],
      "attachments":{
        
      },
      "metadata":{
        
      }
    },
    {
      "cell_type":"code",
      "source":[
        "!pip install missingno"
      ],
      "execution_count":1,
      "outputs":[
        {
          "name":"stdout",
          "text":[
            "Collecting missingno\r\n",
            "  Downloading missingno-0.5.0-py3-none-any.whl (8.8 kB)\r\n",
            "Requirement already satisfied: numpy in \/opt\/python\/envs\/default\/lib\/python3.8\/site-packages (from missingno) (1.19.5)\r\n",
            "Requirement already satisfied: scipy in \/opt\/python\/envs\/default\/lib\/python3.8\/site-packages (from missingno) (1.7.1)\r\n",
            "Requirement already satisfied: matplotlib in \/opt\/python\/envs\/default\/lib\/python3.8\/site-packages (from missingno) (3.3.4)\r\n",
            "Requirement already satisfied: seaborn in \/opt\/python\/envs\/default\/lib\/python3.8\/site-packages (from missingno) (0.11.2)\r\n",
            "Requirement already satisfied: pillow>=6.2.0 in \/opt\/python\/envs\/default\/lib\/python3.8\/site-packages (from matplotlib->missingno) (8.4.0)\r\n",
            "Requirement already satisfied: python-dateutil>=2.1 in \/opt\/python\/envs\/default\/lib\/python3.8\/site-packages (from matplotlib->missingno) (2.8.2)\r\n",
            "Requirement already satisfied: kiwisolver>=1.0.1 in \/opt\/python\/envs\/default\/lib\/python3.8\/site-packages (from matplotlib->missingno) (1.3.2)\r\n",
            "Requirement already satisfied: cycler>=0.10 in \/opt\/python\/envs\/default\/lib\/python3.8\/site-packages (from matplotlib->missingno) (0.11.0)\r\n",
            "Requirement already satisfied: pyparsing!=2.0.4,!=2.1.2,!=2.1.6,>=2.0.3 in \/opt\/python\/envs\/default\/lib\/python3.8\/site-packages (from matplotlib->missingno) (3.0.6)\r\n",
            "Requirement already satisfied: pandas>=0.23 in \/opt\/python\/envs\/default\/lib\/python3.8\/site-packages (from seaborn->missingno) (1.3.4)\r\n",
            "Requirement already satisfied: pytz>=2017.3 in \/opt\/python\/envs\/default\/lib\/python3.8\/site-packages (from pandas>=0.23->seaborn->missingno) (2021.3)\r\n",
            "Requirement already satisfied: six>=1.5 in \/opt\/python\/envs\/default\/lib\/python3.8\/site-packages (from python-dateutil>=2.1->matplotlib->missingno) (1.15.0)\r\n",
            "Installing collected packages: missingno\r\n",
            "Successfully installed missingno-0.5.0\r\n"
          ],
          "output_type":"stream"
        }
      ],
      "metadata":{
        
      }
    },
    {
      "cell_type":"code",
      "source":[
        "# import all packages and set plots to be embedded inline\n",
        "import numpy as np\n",
        "import pandas as pd\n",
        "import statsmodels.api as sm\n",
        "import matplotlib.pyplot as plt\n",
        "import seaborn as sb\n",
        "import missingno as msno # for null\n",
        "%matplotlib inline\n",
        "\n",
        "# suppress warnings from final output\n",
        "import warnings\n",
        "warnings.simplefilter(\"ignore\")\n",
        "\n",
        "# set up to view all the info of the columns\n",
        "pd.set_option('display.max_columns', None)\n",
        "pd.set_option('display.max_rows', None)\n",
        "plt.style.use('ggplot')\n",
        "plt.rcParams.update({'font.size': 16,\n",
        "                     'axes.labelweight': 'bold',\n",
        "                     'figure.figsize': (8,6)})"
      ],
      "execution_count":2,
      "outputs":[
        
      ],
      "metadata":{
        
      }
    },
    {
      "cell_type":"markdown",
      "source":[
        "### Data Assessing"
      ],
      "attachments":{
        
      },
      "metadata":{
        
      }
    },
    {
      "cell_type":"code",
      "source":[
        "df.head()"
      ],
      "execution_count":0,
      "outputs":[
        
      ],
      "metadata":{
        
      }
    },
    {
      "cell_type":"code",
      "source":[
        "def basic_info(df):\n",
        "    print(\"This dataset has \", df.shape[1], \" columns and \", df.shape[0], \" rows.\")\n",
        "    print(\"This dataset has \", df[df.duplicated()].shape[0], \" duplicated rows.\")\n",
        "    print(\" \")\n",
        "    print(\"Descriptive statistics of the numeric features in the dataset: \")\n",
        "    print(\" \")\n",
        "    print(df.describe())\n",
        "    print(\" \")\n",
        "    print(\"Information about this dataset: \")\n",
        "    print(\" \")\n",
        "    print(df.info())"
      ],
      "execution_count":2,
      "outputs":[
        
      ],
      "metadata":{
        
      }
    },
    {
      "cell_type":"markdown",
      "source":[
        "## Assessment report:\n",
        "\n",
        "### Quality issues\n",
        "\n",
        "-\n",
        "-\n",
        "### Tidiness issues\n",
        "\n",
        "-\n",
        "-\n",
        "## Data Cleaning"
      ],
      "attachments":{
        
      },
      "metadata":{
        
      }
    },
    {
      "cell_type":"code",
      "source":[
        "df_copy = df.copy()"
      ],
      "execution_count":0,
      "outputs":[
        
      ],
      "metadata":{
        
      }
    },
    {
      "cell_type":"markdown",
      "source":[
        "#### issue : ex. Every column's name have a space at the beginning, except for 'url'.\n",
        "\n",
        "#### Define: ex. use .rename() function to replace the space,\" \", with empty, \"\".\n",
        "\n",
        "#### Code"
      ],
      "attachments":{
        
      },
      "metadata":{
        
      }
    },
    {
      "cell_type":"code",
      "source":[
        
      ],
      "execution_count":0,
      "outputs":[
        
      ],
      "metadata":{
        
      }
    },
    {
      "cell_type":"markdown",
      "source":[
        "### test"
      ],
      "attachments":{
        
      },
      "metadata":{
        
      }
    },
    {
      "cell_type":"code",
      "source":[
        
      ],
      "execution_count":0,
      "outputs":[
        
      ],
      "metadata":{
        
      }
    },
    {
      "cell_type":"markdown",
      "source":[
        "#### ?????? issue\n",
        "\n",
        "#### Define:\n",
        "\n",
        "#### Code"
      ],
      "attachments":{
        
      },
      "metadata":{
        
      }
    },
    {
      "cell_type":"code",
      "source":[
        
      ],
      "execution_count":0,
      "outputs":[
        
      ],
      "metadata":{
        
      }
    },
    {
      "cell_type":"markdown",
      "source":[
        "### test"
      ],
      "attachments":{
        
      },
      "metadata":{
        
      }
    },
    {
      "cell_type":"code",
      "source":[
        
      ],
      "execution_count":0,
      "outputs":[
        
      ],
      "metadata":{
        
      }
    },
    {
      "cell_type":"markdown",
      "source":[
        "#### ?????? issue\n",
        "\n",
        "#### Define:\n",
        "\n",
        "#### Code"
      ],
      "attachments":{
        
      },
      "metadata":{
        
      }
    },
    {
      "cell_type":"code",
      "source":[
        
      ],
      "execution_count":0,
      "outputs":[
        
      ],
      "metadata":{
        
      }
    },
    {
      "cell_type":"markdown",
      "source":[
        "### test"
      ],
      "attachments":{
        
      },
      "metadata":{
        
      }
    },
    {
      "cell_type":"code",
      "source":[
        
      ],
      "execution_count":0,
      "outputs":[
        
      ],
      "metadata":{
        
      }
    },
    {
      "cell_type":"markdown",
      "source":[
        "## Final step of Wrangling: Store data"
      ],
      "attachments":{
        
      },
      "metadata":{
        
      }
    },
    {
      "cell_type":"code",
      "source":[
        "# store the file\n",
        "df_copy.reset_index(drop=True)\n",
        "df_copy.to_csv('??????.csv', index=False)"
      ],
      "execution_count":0,
      "outputs":[
        
      ],
      "metadata":{
        
      }
    },
    {
      "cell_type":"code",
      "source":[
        "#load data\n",
        "clean_df = pd.read_csv('??????.csv')"
      ],
      "execution_count":0,
      "outputs":[
        
      ],
      "metadata":{
        
      }
    },
    {
      "cell_type":"markdown",
      "source":[
        "# Exploratory Data Analysis"
      ],
      "attachments":{
        
      },
      "metadata":{
        
      }
    },
    {
      "cell_type":"code",
      "source":[
        
      ],
      "execution_count":0,
      "outputs":[
        
      ],
      "metadata":{
        
      }
    },
    {
      "cell_type":"code",
      "source":[
        
      ],
      "execution_count":0,
      "outputs":[
        
      ],
      "metadata":{
        
      }
    },
    {
      "cell_type":"code",
      "source":[
        
      ],
      "execution_count":0,
      "outputs":[
        
      ],
      "metadata":{
        
      }
    },
    {
      "cell_type":"markdown",
      "source":[
        "### Research Questions 1:"
      ],
      "attachments":{
        
      },
      "metadata":{
        
      }
    },
    {
      "cell_type":"code",
      "source":[
        
      ],
      "execution_count":0,
      "outputs":[
        
      ],
      "metadata":{
        
      }
    },
    {
      "cell_type":"markdown",
      "source":[
        "### Research Questions 2:"
      ],
      "attachments":{
        
      },
      "metadata":{
        
      }
    },
    {
      "cell_type":"code",
      "source":[
        
      ],
      "execution_count":0,
      "outputs":[
        
      ],
      "metadata":{
        
      }
    },
    {
      "cell_type":"markdown",
      "source":[
        "## Conclusion:"
      ],
      "attachments":{
        
      },
      "metadata":{
        
      }
    },
    {
      "cell_type":"code",
      "source":[
        
      ],
      "execution_count":0,
      "outputs":[
        
      ],
      "metadata":{
        
      }
    }
  ],
  "metadata":{
    
  },
  "nbformat":4,
  "nbformat_minor":0
}